{
 "cells": [
  {
   "cell_type": "code",
   "execution_count": null,
   "id": "b80fbc7c",
   "metadata": {},
   "outputs": [],
   "source": [
    "import socket\n",
    "import torch\n",
    "import torch.nn as nn\n",
    "import numpy as np"
   ]
  },
  {
   "cell_type": "code",
   "execution_count": null,
   "id": "3f1d9247",
   "metadata": {},
   "outputs": [],
   "source": [
    "#env param\n",
    "ENV_IP = \"127.0.0.1\"\n",
    "ENV_PORT = 5000\n",
    "AREA_SIZE = 15\n",
    "NUM_STATE = 5\n",
    "\n",
    "device = torch.device(\"cuda:0\")"
   ]
  },
  {
   "cell_type": "code",
   "execution_count": null,
   "id": "98226ef7",
   "metadata": {},
   "outputs": [],
   "source": [
    "#Player\n",
    "class Player():\n",
    "    def __init__(self):\n",
    "        self.client = socket.socket(socket.AF_INET, socket.SOCK_STREAM)\n",
    "        self.client.connect((ENV_IP, ENV_PORT))\n",
    "        print(\"Unity server connected\")\n",
    "\n",
    "    def __del__(self):\n",
    "        print(\"Unity server disconnecting\")\n",
    "        self.client.close()\n",
    "        \n",
    "    def step(self, cmd):\n",
    "        self.client.sendall(cmd.encode())\n",
    "        self.result = \"\"\n",
    "        while len(self.result) < 297:\n",
    "            self.result += self.client.recv(512).decode()\n",
    "        self.state = np.array(list(map(int, self.result[: (AREA_SIZE + 2) ** 2])), dtype=np.float32)\n",
    "        self.state = self.state.reshape(1, AREA_SIZE + 2, AREA_SIZE + 2)\n",
    "        self.state /= NUM_STATE - 1\n",
    "        self.reward = float(self.result[(AREA_SIZE + 2) **2: -2])\n",
    "        self.playing = True if self.result[-1] == \"T\" else False\n",
    "        return (self.state, self.reward, self.playing)"
   ]
  },
  {
   "cell_type": "code",
   "execution_count": null,
   "id": "a8a2f6ba-4513-41da-8450-c731e941e036",
   "metadata": {},
   "outputs": [],
   "source": [
    "#Dueling Network\n",
    "class Dueling_N(nn.Module):\n",
    "    def __init__(self):\n",
    "        print(\"Making Network\")\n",
    "        super().__init__()\n",
    "        self.ReLU = nn.ReLU()\n",
    "        self.flatten = nn.Flatten()\n",
    "        self.conv1 = nn.Conv2d(in_channels=1,  out_channels=32,  kernel_size=3, stride=1, padding=1) #畳み込み層1\n",
    "        self.conv2 = nn.Conv2d(in_channels=32, out_channels=64,  kernel_size=4, stride=2, padding=1) #畳み込み層2\n",
    "        self.conv3 = nn.Conv2d(in_channels=64, out_channels=128, kernel_size=5, stride=1, padding=1) #畳み込み層3\n",
    "        self.val_fc = nn.Sequential(nn.Linear(4608, 512), nn.ReLU(), nn.Linear(512, 1)) #行動価値層\n",
    "        self.adv_fc = nn.Sequential(nn.Linear(4608, 512), nn.ReLU(), nn.Linear(512, 4)) #Advantage層\n",
    "\n",
    "    def forward(self, x):\n",
    "        x = self.ReLU(self.conv1(x))\n",
    "        x = self.ReLU(self.conv2(x))\n",
    "        x = self.ReLU(self.conv3(x))\n",
    "        x = self.flatten(x)\n",
    "        x_val = self.val_fc(x)\n",
    "        x_adv = self.adv_fc(x)\n",
    "        q = x_val + x_adv - x_adv.mean(dim=1, keepdim=True).detach()\n",
    "        return q #output Q value"
   ]
  },
  {
   "cell_type": "code",
   "execution_count": null,
   "id": "33843170",
   "metadata": {},
   "outputs": [],
   "source": [
    "#eval\n",
    "target_net = Dueling_N().to(device)\n",
    "target_net.load_state_dict(torch.load(\"20000.pth\"))\n",
    "target_net.eval()\n",
    "\n",
    "player = Player()\n",
    "cmds = [\"L\", \"R\", \"U\", \"D\"]\n",
    "state, reward, playing = player.step(\"A\")\n",
    "while playing:\n",
    "    cmd = target_net(torch.from_numpy(state.reshape(1, 1, AREA_SIZE + 2, AREA_SIZE + 2)).to(device))\n",
    "    state, reward, playing = player.step(cmds[cmd.argmax().cpu().item()])\n",
    "    print(cmd, reward)\n",
    "del(player)"
   ]
  }
 ],
 "metadata": {
  "kernelspec": {
   "display_name": "Python 3 (ipykernel)",
   "language": "python",
   "name": "python3"
  },
  "language_info": {
   "codemirror_mode": {
    "name": "ipython",
    "version": 3
   },
   "file_extension": ".py",
   "mimetype": "text/x-python",
   "name": "python",
   "nbconvert_exporter": "python",
   "pygments_lexer": "ipython3",
   "version": "3.8.10"
  }
 },
 "nbformat": 4,
 "nbformat_minor": 5
}
